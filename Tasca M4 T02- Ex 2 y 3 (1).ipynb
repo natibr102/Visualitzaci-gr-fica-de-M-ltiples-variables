{
 "cells": [
  {
   "cell_type": "code",
   "execution_count": 1,
   "id": "fcd0c93c",
   "metadata": {},
   "outputs": [],
   "source": [
    "import numpy as np\n",
    "import pandas as pd\n",
    "import matplotlib.pyplot as plt\n",
    "import seaborn as sns\n",
    "import warnings\n",
    "\n",
    "warnings.filterwarnings('ignore')"
   ]
  },
  {
   "cell_type": "code",
   "execution_count": 2,
   "id": "2e2e93c7",
   "metadata": {},
   "outputs": [
    {
     "data": {
      "text/html": [
       "<div>\n",
       "<style scoped>\n",
       "    .dataframe tbody tr th:only-of-type {\n",
       "        vertical-align: middle;\n",
       "    }\n",
       "\n",
       "    .dataframe tbody tr th {\n",
       "        vertical-align: top;\n",
       "    }\n",
       "\n",
       "    .dataframe thead th {\n",
       "        text-align: right;\n",
       "    }\n",
       "</style>\n",
       "<table border=\"1\" class=\"dataframe\">\n",
       "  <thead>\n",
       "    <tr style=\"text-align: right;\">\n",
       "      <th></th>\n",
       "      <th>ID</th>\n",
       "      <th>Pelicula</th>\n",
       "      <th>Genero</th>\n",
       "    </tr>\n",
       "  </thead>\n",
       "  <tbody>\n",
       "    <tr>\n",
       "      <th>0</th>\n",
       "      <td>1</td>\n",
       "      <td>Toy Story (1995)</td>\n",
       "      <td>Animation|Children's|Comedy</td>\n",
       "    </tr>\n",
       "    <tr>\n",
       "      <th>1</th>\n",
       "      <td>2</td>\n",
       "      <td>Jumanji (1995)</td>\n",
       "      <td>Adventure|Children's|Fantasy</td>\n",
       "    </tr>\n",
       "    <tr>\n",
       "      <th>2</th>\n",
       "      <td>3</td>\n",
       "      <td>Grumpier Old Men (1995)</td>\n",
       "      <td>Comedy|Romance</td>\n",
       "    </tr>\n",
       "    <tr>\n",
       "      <th>3</th>\n",
       "      <td>4</td>\n",
       "      <td>Waiting to Exhale (1995)</td>\n",
       "      <td>Comedy|Drama</td>\n",
       "    </tr>\n",
       "    <tr>\n",
       "      <th>4</th>\n",
       "      <td>5</td>\n",
       "      <td>Father of the Bride Part II (1995)</td>\n",
       "      <td>Comedy</td>\n",
       "    </tr>\n",
       "    <tr>\n",
       "      <th>...</th>\n",
       "      <td>...</td>\n",
       "      <td>...</td>\n",
       "      <td>...</td>\n",
       "    </tr>\n",
       "    <tr>\n",
       "      <th>3878</th>\n",
       "      <td>3948</td>\n",
       "      <td>Meet the Parents (2000)</td>\n",
       "      <td>Comedy</td>\n",
       "    </tr>\n",
       "    <tr>\n",
       "      <th>3879</th>\n",
       "      <td>3949</td>\n",
       "      <td>Requiem for a Dream (2000)</td>\n",
       "      <td>Drama</td>\n",
       "    </tr>\n",
       "    <tr>\n",
       "      <th>3880</th>\n",
       "      <td>3950</td>\n",
       "      <td>Tigerland (2000)</td>\n",
       "      <td>Drama</td>\n",
       "    </tr>\n",
       "    <tr>\n",
       "      <th>3881</th>\n",
       "      <td>3951</td>\n",
       "      <td>Two Family House (2000)</td>\n",
       "      <td>Drama</td>\n",
       "    </tr>\n",
       "    <tr>\n",
       "      <th>3882</th>\n",
       "      <td>3952</td>\n",
       "      <td>Contender, The (2000)</td>\n",
       "      <td>Drama|Thriller</td>\n",
       "    </tr>\n",
       "  </tbody>\n",
       "</table>\n",
       "<p>3883 rows × 3 columns</p>\n",
       "</div>"
      ],
      "text/plain": [
       "        ID                            Pelicula                        Genero\n",
       "0        1                    Toy Story (1995)   Animation|Children's|Comedy\n",
       "1        2                      Jumanji (1995)  Adventure|Children's|Fantasy\n",
       "2        3             Grumpier Old Men (1995)                Comedy|Romance\n",
       "3        4            Waiting to Exhale (1995)                  Comedy|Drama\n",
       "4        5  Father of the Bride Part II (1995)                        Comedy\n",
       "...    ...                                 ...                           ...\n",
       "3878  3948             Meet the Parents (2000)                        Comedy\n",
       "3879  3949          Requiem for a Dream (2000)                         Drama\n",
       "3880  3950                    Tigerland (2000)                         Drama\n",
       "3881  3951             Two Family House (2000)                         Drama\n",
       "3882  3952               Contender, The (2000)                Drama|Thriller\n",
       "\n",
       "[3883 rows x 3 columns]"
      ]
     },
     "execution_count": 2,
     "metadata": {},
     "output_type": "execute_result"
    }
   ],
   "source": [
    "df_movie= pd.read_csv (\"/Users/natalia/Downloads/PRE-PROCESSING-DATA-main/movies.dat\",sep = '::',usecols=[0,1, 2],names = [\"ID\",\"Pelicula\", \"Genero\"],encoding=\"iso-8859-1\",engine=\"python\")\n",
    "df_movie"
   ]
  },
  {
   "cell_type": "markdown",
   "id": "64cd7d50",
   "metadata": {},
   "source": [
    "### <span style=\"color:blue\">-Exercici 2</span>\n",
    "Fes les tasques de preprocessat  i adequació del Dataset que disposem en el repositori de GitHub PRE-PROCESSING-DATA amb l'objectiu de preparar-lo i treballar-lo com a dataframe per a extreure'n informació."
   ]
  },
  {
   "cell_type": "code",
   "execution_count": 3,
   "id": "e24c5111",
   "metadata": {},
   "outputs": [
    {
     "name": "stdout",
     "output_type": "stream",
     "text": [
      "<class 'pandas.core.frame.DataFrame'>\n",
      "RangeIndex: 3883 entries, 0 to 3882\n",
      "Data columns (total 3 columns):\n",
      " #   Column    Non-Null Count  Dtype \n",
      "---  ------    --------------  ----- \n",
      " 0   ID        3883 non-null   int64 \n",
      " 1   Pelicula  3883 non-null   object\n",
      " 2   Genero    3883 non-null   object\n",
      "dtypes: int64(1), object(2)\n",
      "memory usage: 91.1+ KB\n"
     ]
    }
   ],
   "source": [
    "df_movie.info()"
   ]
  },
  {
   "cell_type": "code",
   "execution_count": 4,
   "id": "b3eaba89",
   "metadata": {},
   "outputs": [
    {
     "data": {
      "text/plain": [
       "(3883, 3)"
      ]
     },
     "execution_count": 4,
     "metadata": {},
     "output_type": "execute_result"
    }
   ],
   "source": [
    "df_movie.shape"
   ]
  },
  {
   "cell_type": "code",
   "execution_count": 25,
   "id": "132ef0cb",
   "metadata": {},
   "outputs": [
    {
     "data": {
      "text/plain": [
       "dtype('O')"
      ]
     },
     "execution_count": 25,
     "metadata": {},
     "output_type": "execute_result"
    }
   ],
   "source": [
    "#df_movie['Genero'] = df_movie['Género'].astype('str')\n",
    "df_movie['Genero'].dtype"
   ]
  },
  {
   "cell_type": "code",
   "execution_count": 6,
   "id": "c5f63ba9",
   "metadata": {},
   "outputs": [
    {
     "data": {
      "text/plain": [
       "Index(['ID', 'Pelicula', 'Genero'], dtype='object')"
      ]
     },
     "execution_count": 6,
     "metadata": {},
     "output_type": "execute_result"
    }
   ],
   "source": [
    "df_movie.columns"
   ]
  },
  {
   "cell_type": "code",
   "execution_count": 7,
   "id": "dea62061",
   "metadata": {},
   "outputs": [
    {
     "data": {
      "text/plain": [
       "<bound method Series.sort_values of ID          0\n",
       "Pelicula    0\n",
       "Genero      0\n",
       "dtype: int64>"
      ]
     },
     "execution_count": 7,
     "metadata": {},
     "output_type": "execute_result"
    }
   ],
   "source": [
    "df_movie.isna().sum().sort_values"
   ]
  },
  {
   "cell_type": "code",
   "execution_count": 8,
   "id": "54d2a69d",
   "metadata": {},
   "outputs": [
    {
     "data": {
      "text/plain": [
       "<bound method Series.sort_values of ID          0\n",
       "Pelicula    0\n",
       "Genero      0\n",
       "dtype: int64>"
      ]
     },
     "execution_count": 8,
     "metadata": {},
     "output_type": "execute_result"
    }
   ],
   "source": [
    "df_movie.isnull().sum().sort_values"
   ]
  },
  {
   "cell_type": "code",
   "execution_count": 9,
   "id": "cd5711d5",
   "metadata": {},
   "outputs": [
    {
     "data": {
      "text/plain": [
       "ID          3883\n",
       "Pelicula    3883\n",
       "Genero       301\n",
       "dtype: int64"
      ]
     },
     "execution_count": 9,
     "metadata": {},
     "output_type": "execute_result"
    }
   ],
   "source": [
    "df_movie.nunique()"
   ]
  },
  {
   "cell_type": "code",
   "execution_count": 10,
   "id": "587b0d87",
   "metadata": {},
   "outputs": [
    {
     "data": {
      "text/plain": [
       "0       Animation\n",
       "1       Adventure\n",
       "2          Comedy\n",
       "3          Comedy\n",
       "4          Comedy\n",
       "          ...    \n",
       "3878       Comedy\n",
       "3879        Drama\n",
       "3880        Drama\n",
       "3881        Drama\n",
       "3882        Drama\n",
       "Name: Genero, Length: 3883, dtype: object"
      ]
     },
     "execution_count": 10,
     "metadata": {},
     "output_type": "execute_result"
    }
   ],
   "source": [
    "#Seleccionamos sólo un género\n",
    "df_movie['Genero']=df_movie['Genero'].str.split(\"|\", expand=True)[0]\n",
    "df_movie['Genero']"
   ]
  },
  {
   "cell_type": "code",
   "execution_count": 11,
   "id": "3ec5ef53",
   "metadata": {},
   "outputs": [
    {
     "data": {
      "text/plain": [
       "0                      Toy Story ,1995\n",
       "1                        Jumanji ,1995\n",
       "2               Grumpier Old Men ,1995\n",
       "3              Waiting to Exhale ,1995\n",
       "4    Father of the Bride Part II ,1995\n",
       "Name: Pelicula, dtype: object"
      ]
     },
     "execution_count": 11,
     "metadata": {},
     "output_type": "execute_result"
    }
   ],
   "source": [
    "df_movie['Pelicula']=df_movie.Pelicula.str.replace('(', ',').str.replace(')', '')\n",
    "df_movie['Pelicula'].head()"
   ]
  },
  {
   "cell_type": "code",
   "execution_count": 12,
   "id": "3370360c",
   "metadata": {},
   "outputs": [
    {
     "data": {
      "text/html": [
       "<div>\n",
       "<style scoped>\n",
       "    .dataframe tbody tr th:only-of-type {\n",
       "        vertical-align: middle;\n",
       "    }\n",
       "\n",
       "    .dataframe tbody tr th {\n",
       "        vertical-align: top;\n",
       "    }\n",
       "\n",
       "    .dataframe thead th {\n",
       "        text-align: right;\n",
       "    }\n",
       "</style>\n",
       "<table border=\"1\" class=\"dataframe\">\n",
       "  <thead>\n",
       "    <tr style=\"text-align: right;\">\n",
       "      <th></th>\n",
       "      <th>ID</th>\n",
       "      <th>Pelicula</th>\n",
       "      <th>Genero</th>\n",
       "      <th>Nom_Pelicula</th>\n",
       "      <th>Año</th>\n",
       "    </tr>\n",
       "  </thead>\n",
       "  <tbody>\n",
       "    <tr>\n",
       "      <th>0</th>\n",
       "      <td>1</td>\n",
       "      <td>Toy Story ,1995</td>\n",
       "      <td>Animation</td>\n",
       "      <td>Toy Story</td>\n",
       "      <td>1995</td>\n",
       "    </tr>\n",
       "    <tr>\n",
       "      <th>1</th>\n",
       "      <td>2</td>\n",
       "      <td>Jumanji ,1995</td>\n",
       "      <td>Adventure</td>\n",
       "      <td>Jumanji</td>\n",
       "      <td>1995</td>\n",
       "    </tr>\n",
       "    <tr>\n",
       "      <th>2</th>\n",
       "      <td>3</td>\n",
       "      <td>Grumpier Old Men ,1995</td>\n",
       "      <td>Comedy</td>\n",
       "      <td>Grumpier Old Men</td>\n",
       "      <td>1995</td>\n",
       "    </tr>\n",
       "    <tr>\n",
       "      <th>3</th>\n",
       "      <td>4</td>\n",
       "      <td>Waiting to Exhale ,1995</td>\n",
       "      <td>Comedy</td>\n",
       "      <td>Waiting to Exhale</td>\n",
       "      <td>1995</td>\n",
       "    </tr>\n",
       "    <tr>\n",
       "      <th>4</th>\n",
       "      <td>5</td>\n",
       "      <td>Father of the Bride Part II ,1995</td>\n",
       "      <td>Comedy</td>\n",
       "      <td>Father of the Bride Part II</td>\n",
       "      <td>1995</td>\n",
       "    </tr>\n",
       "    <tr>\n",
       "      <th>...</th>\n",
       "      <td>...</td>\n",
       "      <td>...</td>\n",
       "      <td>...</td>\n",
       "      <td>...</td>\n",
       "      <td>...</td>\n",
       "    </tr>\n",
       "    <tr>\n",
       "      <th>3878</th>\n",
       "      <td>3948</td>\n",
       "      <td>Meet the Parents ,2000</td>\n",
       "      <td>Comedy</td>\n",
       "      <td>Meet the Parents</td>\n",
       "      <td>2000</td>\n",
       "    </tr>\n",
       "    <tr>\n",
       "      <th>3879</th>\n",
       "      <td>3949</td>\n",
       "      <td>Requiem for a Dream ,2000</td>\n",
       "      <td>Drama</td>\n",
       "      <td>Requiem for a Dream</td>\n",
       "      <td>2000</td>\n",
       "    </tr>\n",
       "    <tr>\n",
       "      <th>3880</th>\n",
       "      <td>3950</td>\n",
       "      <td>Tigerland ,2000</td>\n",
       "      <td>Drama</td>\n",
       "      <td>Tigerland</td>\n",
       "      <td>2000</td>\n",
       "    </tr>\n",
       "    <tr>\n",
       "      <th>3881</th>\n",
       "      <td>3951</td>\n",
       "      <td>Two Family House ,2000</td>\n",
       "      <td>Drama</td>\n",
       "      <td>Two Family House</td>\n",
       "      <td>2000</td>\n",
       "    </tr>\n",
       "    <tr>\n",
       "      <th>3882</th>\n",
       "      <td>3952</td>\n",
       "      <td>Contender, The ,2000</td>\n",
       "      <td>Drama</td>\n",
       "      <td>Contender, The</td>\n",
       "      <td>2000</td>\n",
       "    </tr>\n",
       "  </tbody>\n",
       "</table>\n",
       "<p>3883 rows × 5 columns</p>\n",
       "</div>"
      ],
      "text/plain": [
       "        ID                           Pelicula     Genero  \\\n",
       "0        1                    Toy Story ,1995  Animation   \n",
       "1        2                      Jumanji ,1995  Adventure   \n",
       "2        3             Grumpier Old Men ,1995     Comedy   \n",
       "3        4            Waiting to Exhale ,1995     Comedy   \n",
       "4        5  Father of the Bride Part II ,1995     Comedy   \n",
       "...    ...                                ...        ...   \n",
       "3878  3948             Meet the Parents ,2000     Comedy   \n",
       "3879  3949          Requiem for a Dream ,2000      Drama   \n",
       "3880  3950                    Tigerland ,2000      Drama   \n",
       "3881  3951             Two Family House ,2000      Drama   \n",
       "3882  3952               Contender, The ,2000      Drama   \n",
       "\n",
       "                      Nom_Pelicula   Año  \n",
       "0                       Toy Story   1995  \n",
       "1                         Jumanji   1995  \n",
       "2                Grumpier Old Men   1995  \n",
       "3               Waiting to Exhale   1995  \n",
       "4     Father of the Bride Part II   1995  \n",
       "...                            ...   ...  \n",
       "3878             Meet the Parents   2000  \n",
       "3879          Requiem for a Dream   2000  \n",
       "3880                    Tigerland   2000  \n",
       "3881             Two Family House   2000  \n",
       "3882               Contender, The   2000  \n",
       "\n",
       "[3883 rows x 5 columns]"
      ]
     },
     "execution_count": 12,
     "metadata": {},
     "output_type": "execute_result"
    }
   ],
   "source": [
    "#Separamos el año del nombre de la pelicula en dos nuevas columnas.\n",
    "df_movie[['Nom_Pelicula','Año']] = df_movie['Pelicula'].str.rsplit(',', 1, expand=True)\n",
    "df_movie"
   ]
  },
  {
   "cell_type": "code",
   "execution_count": 13,
   "id": "273e9b13",
   "metadata": {},
   "outputs": [
    {
     "data": {
      "text/html": [
       "<div>\n",
       "<style scoped>\n",
       "    .dataframe tbody tr th:only-of-type {\n",
       "        vertical-align: middle;\n",
       "    }\n",
       "\n",
       "    .dataframe tbody tr th {\n",
       "        vertical-align: top;\n",
       "    }\n",
       "\n",
       "    .dataframe thead th {\n",
       "        text-align: right;\n",
       "    }\n",
       "</style>\n",
       "<table border=\"1\" class=\"dataframe\">\n",
       "  <thead>\n",
       "    <tr style=\"text-align: right;\">\n",
       "      <th></th>\n",
       "      <th>ID</th>\n",
       "      <th>Genero</th>\n",
       "      <th>Nom_Pelicula</th>\n",
       "      <th>Año</th>\n",
       "    </tr>\n",
       "  </thead>\n",
       "  <tbody>\n",
       "    <tr>\n",
       "      <th>0</th>\n",
       "      <td>1</td>\n",
       "      <td>Animation</td>\n",
       "      <td>Toy Story</td>\n",
       "      <td>1995</td>\n",
       "    </tr>\n",
       "    <tr>\n",
       "      <th>1</th>\n",
       "      <td>2</td>\n",
       "      <td>Adventure</td>\n",
       "      <td>Jumanji</td>\n",
       "      <td>1995</td>\n",
       "    </tr>\n",
       "    <tr>\n",
       "      <th>2</th>\n",
       "      <td>3</td>\n",
       "      <td>Comedy</td>\n",
       "      <td>Grumpier Old Men</td>\n",
       "      <td>1995</td>\n",
       "    </tr>\n",
       "    <tr>\n",
       "      <th>3</th>\n",
       "      <td>4</td>\n",
       "      <td>Comedy</td>\n",
       "      <td>Waiting to Exhale</td>\n",
       "      <td>1995</td>\n",
       "    </tr>\n",
       "    <tr>\n",
       "      <th>4</th>\n",
       "      <td>5</td>\n",
       "      <td>Comedy</td>\n",
       "      <td>Father of the Bride Part II</td>\n",
       "      <td>1995</td>\n",
       "    </tr>\n",
       "    <tr>\n",
       "      <th>...</th>\n",
       "      <td>...</td>\n",
       "      <td>...</td>\n",
       "      <td>...</td>\n",
       "      <td>...</td>\n",
       "    </tr>\n",
       "    <tr>\n",
       "      <th>3878</th>\n",
       "      <td>3948</td>\n",
       "      <td>Comedy</td>\n",
       "      <td>Meet the Parents</td>\n",
       "      <td>2000</td>\n",
       "    </tr>\n",
       "    <tr>\n",
       "      <th>3879</th>\n",
       "      <td>3949</td>\n",
       "      <td>Drama</td>\n",
       "      <td>Requiem for a Dream</td>\n",
       "      <td>2000</td>\n",
       "    </tr>\n",
       "    <tr>\n",
       "      <th>3880</th>\n",
       "      <td>3950</td>\n",
       "      <td>Drama</td>\n",
       "      <td>Tigerland</td>\n",
       "      <td>2000</td>\n",
       "    </tr>\n",
       "    <tr>\n",
       "      <th>3881</th>\n",
       "      <td>3951</td>\n",
       "      <td>Drama</td>\n",
       "      <td>Two Family House</td>\n",
       "      <td>2000</td>\n",
       "    </tr>\n",
       "    <tr>\n",
       "      <th>3882</th>\n",
       "      <td>3952</td>\n",
       "      <td>Drama</td>\n",
       "      <td>Contender, The</td>\n",
       "      <td>2000</td>\n",
       "    </tr>\n",
       "  </tbody>\n",
       "</table>\n",
       "<p>3883 rows × 4 columns</p>\n",
       "</div>"
      ],
      "text/plain": [
       "        ID     Genero                  Nom_Pelicula   Año\n",
       "0        1  Animation                    Toy Story   1995\n",
       "1        2  Adventure                      Jumanji   1995\n",
       "2        3     Comedy             Grumpier Old Men   1995\n",
       "3        4     Comedy            Waiting to Exhale   1995\n",
       "4        5     Comedy  Father of the Bride Part II   1995\n",
       "...    ...        ...                           ...   ...\n",
       "3878  3948     Comedy             Meet the Parents   2000\n",
       "3879  3949      Drama          Requiem for a Dream   2000\n",
       "3880  3950      Drama                    Tigerland   2000\n",
       "3881  3951      Drama             Two Family House   2000\n",
       "3882  3952      Drama               Contender, The   2000\n",
       "\n",
       "[3883 rows x 4 columns]"
      ]
     },
     "execution_count": 13,
     "metadata": {},
     "output_type": "execute_result"
    }
   ],
   "source": [
    "#Eliminamos la columna Pelicula que contenía el nombre y el año juntos.\n",
    "\n",
    "df_movie.drop(['Pelicula'], axis=1)"
   ]
  },
  {
   "cell_type": "code",
   "execution_count": 14,
   "id": "fe56006d",
   "metadata": {},
   "outputs": [
    {
     "data": {
      "text/html": [
       "<div>\n",
       "<style scoped>\n",
       "    .dataframe tbody tr th:only-of-type {\n",
       "        vertical-align: middle;\n",
       "    }\n",
       "\n",
       "    .dataframe tbody tr th {\n",
       "        vertical-align: top;\n",
       "    }\n",
       "\n",
       "    .dataframe thead th {\n",
       "        text-align: right;\n",
       "    }\n",
       "</style>\n",
       "<table border=\"1\" class=\"dataframe\">\n",
       "  <thead>\n",
       "    <tr style=\"text-align: right;\">\n",
       "      <th></th>\n",
       "      <th>ID</th>\n",
       "      <th>Nom_Pelicula</th>\n",
       "      <th>Año</th>\n",
       "      <th>Genero</th>\n",
       "    </tr>\n",
       "  </thead>\n",
       "  <tbody>\n",
       "    <tr>\n",
       "      <th>0</th>\n",
       "      <td>1</td>\n",
       "      <td>Toy Story</td>\n",
       "      <td>1995</td>\n",
       "      <td>Animation</td>\n",
       "    </tr>\n",
       "    <tr>\n",
       "      <th>1</th>\n",
       "      <td>2</td>\n",
       "      <td>Jumanji</td>\n",
       "      <td>1995</td>\n",
       "      <td>Adventure</td>\n",
       "    </tr>\n",
       "    <tr>\n",
       "      <th>2</th>\n",
       "      <td>3</td>\n",
       "      <td>Grumpier Old Men</td>\n",
       "      <td>1995</td>\n",
       "      <td>Comedy</td>\n",
       "    </tr>\n",
       "    <tr>\n",
       "      <th>3</th>\n",
       "      <td>4</td>\n",
       "      <td>Waiting to Exhale</td>\n",
       "      <td>1995</td>\n",
       "      <td>Comedy</td>\n",
       "    </tr>\n",
       "    <tr>\n",
       "      <th>4</th>\n",
       "      <td>5</td>\n",
       "      <td>Father of the Bride Part II</td>\n",
       "      <td>1995</td>\n",
       "      <td>Comedy</td>\n",
       "    </tr>\n",
       "    <tr>\n",
       "      <th>...</th>\n",
       "      <td>...</td>\n",
       "      <td>...</td>\n",
       "      <td>...</td>\n",
       "      <td>...</td>\n",
       "    </tr>\n",
       "    <tr>\n",
       "      <th>3878</th>\n",
       "      <td>3948</td>\n",
       "      <td>Meet the Parents</td>\n",
       "      <td>2000</td>\n",
       "      <td>Comedy</td>\n",
       "    </tr>\n",
       "    <tr>\n",
       "      <th>3879</th>\n",
       "      <td>3949</td>\n",
       "      <td>Requiem for a Dream</td>\n",
       "      <td>2000</td>\n",
       "      <td>Drama</td>\n",
       "    </tr>\n",
       "    <tr>\n",
       "      <th>3880</th>\n",
       "      <td>3950</td>\n",
       "      <td>Tigerland</td>\n",
       "      <td>2000</td>\n",
       "      <td>Drama</td>\n",
       "    </tr>\n",
       "    <tr>\n",
       "      <th>3881</th>\n",
       "      <td>3951</td>\n",
       "      <td>Two Family House</td>\n",
       "      <td>2000</td>\n",
       "      <td>Drama</td>\n",
       "    </tr>\n",
       "    <tr>\n",
       "      <th>3882</th>\n",
       "      <td>3952</td>\n",
       "      <td>Contender, The</td>\n",
       "      <td>2000</td>\n",
       "      <td>Drama</td>\n",
       "    </tr>\n",
       "  </tbody>\n",
       "</table>\n",
       "<p>3883 rows × 4 columns</p>\n",
       "</div>"
      ],
      "text/plain": [
       "        ID                  Nom_Pelicula   Año     Genero\n",
       "0        1                    Toy Story   1995  Animation\n",
       "1        2                      Jumanji   1995  Adventure\n",
       "2        3             Grumpier Old Men   1995     Comedy\n",
       "3        4            Waiting to Exhale   1995     Comedy\n",
       "4        5  Father of the Bride Part II   1995     Comedy\n",
       "...    ...                           ...   ...        ...\n",
       "3878  3948             Meet the Parents   2000     Comedy\n",
       "3879  3949          Requiem for a Dream   2000      Drama\n",
       "3880  3950                    Tigerland   2000      Drama\n",
       "3881  3951             Two Family House   2000      Drama\n",
       "3882  3952               Contender, The   2000      Drama\n",
       "\n",
       "[3883 rows x 4 columns]"
      ]
     },
     "execution_count": 14,
     "metadata": {},
     "output_type": "execute_result"
    }
   ],
   "source": [
    "df_movie = df_movie[['ID', 'Nom_Pelicula', 'Año', 'Genero']]\n",
    "df_movie"
   ]
  },
  {
   "cell_type": "code",
   "execution_count": 15,
   "id": "088c7e3e",
   "metadata": {},
   "outputs": [
    {
     "data": {
      "text/plain": [
       "ID              0\n",
       "Nom_Pelicula    0\n",
       "Año             0\n",
       "Genero          0\n",
       "dtype: int64"
      ]
     },
     "execution_count": 15,
     "metadata": {},
     "output_type": "execute_result"
    }
   ],
   "source": [
    "df_movie.isnull().sum()"
   ]
  },
  {
   "cell_type": "code",
   "execution_count": 16,
   "id": "965ce097",
   "metadata": {},
   "outputs": [
    {
     "data": {
      "text/plain": [
       "ID              0\n",
       "Nom_Pelicula    0\n",
       "Año             0\n",
       "Genero          0\n",
       "dtype: int64"
      ]
     },
     "execution_count": 16,
     "metadata": {},
     "output_type": "execute_result"
    }
   ],
   "source": [
    "df_movie.isna().sum()"
   ]
  },
  {
   "cell_type": "code",
   "execution_count": 17,
   "id": "7ad7e442",
   "metadata": {},
   "outputs": [
    {
     "data": {
      "text/plain": [
       "ID              3883\n",
       "Nom_Pelicula    3883\n",
       "Año             3883\n",
       "Genero          3883\n",
       "dtype: int64"
      ]
     },
     "execution_count": 17,
     "metadata": {},
     "output_type": "execute_result"
    }
   ],
   "source": [
    "df_movie.count()"
   ]
  },
  {
   "cell_type": "code",
   "execution_count": 18,
   "id": "e22c5ef8",
   "metadata": {},
   "outputs": [
    {
     "data": {
      "text/html": [
       "<div>\n",
       "<style scoped>\n",
       "    .dataframe tbody tr th:only-of-type {\n",
       "        vertical-align: middle;\n",
       "    }\n",
       "\n",
       "    .dataframe tbody tr th {\n",
       "        vertical-align: top;\n",
       "    }\n",
       "\n",
       "    .dataframe thead th {\n",
       "        text-align: right;\n",
       "    }\n",
       "</style>\n",
       "<table border=\"1\" class=\"dataframe\">\n",
       "  <thead>\n",
       "    <tr style=\"text-align: right;\">\n",
       "      <th></th>\n",
       "      <th>count</th>\n",
       "      <th>unique</th>\n",
       "      <th>top</th>\n",
       "      <th>freq</th>\n",
       "    </tr>\n",
       "  </thead>\n",
       "  <tbody>\n",
       "    <tr>\n",
       "      <th>Nom_Pelicula</th>\n",
       "      <td>3883</td>\n",
       "      <td>3841</td>\n",
       "      <td>Hamlet</td>\n",
       "      <td>5</td>\n",
       "    </tr>\n",
       "    <tr>\n",
       "      <th>Año</th>\n",
       "      <td>3883</td>\n",
       "      <td>81</td>\n",
       "      <td>1996</td>\n",
       "      <td>345</td>\n",
       "    </tr>\n",
       "    <tr>\n",
       "      <th>Genero</th>\n",
       "      <td>3883</td>\n",
       "      <td>18</td>\n",
       "      <td>Drama</td>\n",
       "      <td>1176</td>\n",
       "    </tr>\n",
       "  </tbody>\n",
       "</table>\n",
       "</div>"
      ],
      "text/plain": [
       "             count unique      top  freq\n",
       "Nom_Pelicula  3883   3841  Hamlet      5\n",
       "Año           3883     81     1996   345\n",
       "Genero        3883     18    Drama  1176"
      ]
     },
     "execution_count": 18,
     "metadata": {},
     "output_type": "execute_result"
    }
   ],
   "source": [
    "df_movie.describe(include=['object']).transpose()"
   ]
  },
  {
   "cell_type": "code",
   "execution_count": 19,
   "id": "7987f0b5",
   "metadata": {},
   "outputs": [
    {
     "name": "stdout",
     "output_type": "stream",
     "text": [
      "<class 'pandas.core.frame.DataFrame'>\n",
      "RangeIndex: 3883 entries, 0 to 3882\n",
      "Data columns (total 4 columns):\n",
      " #   Column        Non-Null Count  Dtype \n",
      "---  ------        --------------  ----- \n",
      " 0   ID            3883 non-null   int64 \n",
      " 1   Nom_Pelicula  3883 non-null   object\n",
      " 2   Año           3883 non-null   int64 \n",
      " 3   Genero        3883 non-null   object\n",
      "dtypes: int64(2), object(2)\n",
      "memory usage: 121.5+ KB\n"
     ]
    }
   ],
   "source": [
    "df_movie['Año'] = df_movie.Año.astype(int)\n",
    "df_movie.info()"
   ]
  },
  {
   "cell_type": "code",
   "execution_count": 20,
   "id": "3dd0a26c",
   "metadata": {},
   "outputs": [
    {
     "data": {
      "text/plain": [
       "0       False\n",
       "1       False\n",
       "2       False\n",
       "3       False\n",
       "4       False\n",
       "        ...  \n",
       "3878    False\n",
       "3879    False\n",
       "3880    False\n",
       "3881    False\n",
       "3882    False\n",
       "Length: 3883, dtype: bool"
      ]
     },
     "execution_count": 20,
     "metadata": {},
     "output_type": "execute_result"
    }
   ],
   "source": [
    "#Verificamos los registros duplicados.\n",
    "df_movie.duplicated(subset=['Nom_Pelicula'])"
   ]
  },
  {
   "cell_type": "code",
   "execution_count": 21,
   "id": "4e0669a6",
   "metadata": {},
   "outputs": [
    {
     "data": {
      "text/html": [
       "<div>\n",
       "<style scoped>\n",
       "    .dataframe tbody tr th:only-of-type {\n",
       "        vertical-align: middle;\n",
       "    }\n",
       "\n",
       "    .dataframe tbody tr th {\n",
       "        vertical-align: top;\n",
       "    }\n",
       "\n",
       "    .dataframe thead th {\n",
       "        text-align: right;\n",
       "    }\n",
       "</style>\n",
       "<table border=\"1\" class=\"dataframe\">\n",
       "  <thead>\n",
       "    <tr style=\"text-align: right;\">\n",
       "      <th></th>\n",
       "      <th>ID</th>\n",
       "      <th>Nom_Pelicula</th>\n",
       "      <th>Año</th>\n",
       "      <th>Genero</th>\n",
       "    </tr>\n",
       "  </thead>\n",
       "  <tbody>\n",
       "  </tbody>\n",
       "</table>\n",
       "</div>"
      ],
      "text/plain": [
       "Empty DataFrame\n",
       "Columns: [ID, Nom_Pelicula, Año, Genero]\n",
       "Index: []"
      ]
     },
     "execution_count": 21,
     "metadata": {},
     "output_type": "execute_result"
    }
   ],
   "source": [
    "df_movie.loc[df_movie.duplicated()]"
   ]
  },
  {
   "cell_type": "code",
   "execution_count": 22,
   "id": "09500b8b",
   "metadata": {},
   "outputs": [
    {
     "data": {
      "text/html": [
       "<div>\n",
       "<style scoped>\n",
       "    .dataframe tbody tr th:only-of-type {\n",
       "        vertical-align: middle;\n",
       "    }\n",
       "\n",
       "    .dataframe tbody tr th {\n",
       "        vertical-align: top;\n",
       "    }\n",
       "\n",
       "    .dataframe thead th {\n",
       "        text-align: right;\n",
       "    }\n",
       "</style>\n",
       "<table border=\"1\" class=\"dataframe\">\n",
       "  <thead>\n",
       "    <tr style=\"text-align: right;\">\n",
       "      <th></th>\n",
       "      <th>ID</th>\n",
       "      <th>Nom_Pelicula</th>\n",
       "      <th>Año</th>\n",
       "      <th>Genero</th>\n",
       "    </tr>\n",
       "  </thead>\n",
       "  <tbody>\n",
       "    <tr>\n",
       "      <th>0</th>\n",
       "      <td>1</td>\n",
       "      <td>Toy Story</td>\n",
       "      <td>1995</td>\n",
       "      <td>Animation</td>\n",
       "    </tr>\n",
       "    <tr>\n",
       "      <th>1</th>\n",
       "      <td>2</td>\n",
       "      <td>Jumanji</td>\n",
       "      <td>1995</td>\n",
       "      <td>Adventure</td>\n",
       "    </tr>\n",
       "    <tr>\n",
       "      <th>2</th>\n",
       "      <td>3</td>\n",
       "      <td>Grumpier Old Men</td>\n",
       "      <td>1995</td>\n",
       "      <td>Comedy</td>\n",
       "    </tr>\n",
       "    <tr>\n",
       "      <th>3</th>\n",
       "      <td>4</td>\n",
       "      <td>Waiting to Exhale</td>\n",
       "      <td>1995</td>\n",
       "      <td>Comedy</td>\n",
       "    </tr>\n",
       "    <tr>\n",
       "      <th>4</th>\n",
       "      <td>5</td>\n",
       "      <td>Father of the Bride Part II</td>\n",
       "      <td>1995</td>\n",
       "      <td>Comedy</td>\n",
       "    </tr>\n",
       "  </tbody>\n",
       "</table>\n",
       "</div>"
      ],
      "text/plain": [
       "   ID                  Nom_Pelicula   Año     Genero\n",
       "0   1                    Toy Story   1995  Animation\n",
       "1   2                      Jumanji   1995  Adventure\n",
       "2   3             Grumpier Old Men   1995     Comedy\n",
       "3   4            Waiting to Exhale   1995     Comedy\n",
       "4   5  Father of the Bride Part II   1995     Comedy"
      ]
     },
     "execution_count": 22,
     "metadata": {},
     "output_type": "execute_result"
    }
   ],
   "source": [
    "df_movie.head()"
   ]
  },
  {
   "cell_type": "markdown",
   "id": "62908384",
   "metadata": {},
   "source": [
    "### <span style=\"color:blue\"> - Exercici 3</span>\n",
    "\n",
    "Mostra la teva creativitat. Què creus rellevant mostrar del Dataset \"movies.dat\" de l'exercici anterior?\n",
    "\n",
    "Fes una o dues representacions gràfiques i justifica la teva elecció."
   ]
  },
  {
   "cell_type": "code",
   "execution_count": 26,
   "id": "aa5aac8c",
   "metadata": {},
   "outputs": [
    {
     "data": {
      "text/plain": [
       "1919"
      ]
     },
     "execution_count": 26,
     "metadata": {},
     "output_type": "execute_result"
    }
   ],
   "source": [
    "df_movie['Año'].min()"
   ]
  },
  {
   "cell_type": "code",
   "execution_count": 27,
   "id": "30ee49b9",
   "metadata": {},
   "outputs": [
    {
     "data": {
      "text/plain": [
       "2000"
      ]
     },
     "execution_count": 27,
     "metadata": {},
     "output_type": "execute_result"
    }
   ],
   "source": [
    "df_movie['Año'].max()"
   ]
  },
  {
   "cell_type": "code",
   "execution_count": 29,
   "id": "72ffd873",
   "metadata": {},
   "outputs": [
    {
     "data": {
      "text/plain": [
       "Año\n",
       "1919      3\n",
       "1920      2\n",
       "1921      1\n",
       "1922      2\n",
       "1923      3\n",
       "       ... \n",
       "1996    345\n",
       "1997    315\n",
       "1998    337\n",
       "1999    283\n",
       "2000    156\n",
       "Name: Nom_Pelicula, Length: 81, dtype: int64"
      ]
     },
     "execution_count": 29,
     "metadata": {},
     "output_type": "execute_result"
    }
   ],
   "source": [
    "df_movie.groupby('Año')['Nom_Pelicula'].count()"
   ]
  },
  {
   "cell_type": "code",
   "execution_count": 66,
   "id": "d7d921a8",
   "metadata": {},
   "outputs": [
    {
     "data": {
      "image/png": "[encoded data removed]",
      "text/plain": [
       "<Figure size 2160x1080 with 1 Axes>"
      ]
     },
     "metadata": {},
     "output_type": "display_data"
    }
   ],
   "source": [
    "fig = plt.figure(figsize=(30,15))\n",
    "df_movie.groupby('Año')['Nom_Pelicula'].count().plot(kind='bar')\n",
    "plt.title('Peliculas por año ',fontdict = font1)\n",
    "font1 = {'family':'serif','color':'blue','size':40}\n",
    "font2 = {'family':'serif','color':'darkred','size':25}\n",
    "plt.ylabel('Cantidad de Peliculas',fontdict = font2)\n",
    "plt.xlabel('Año',fontdict = font2)\n",
    "plt.savefig(\"Peliculasxaño.jpg\", bbox_inches='tight')"
   ]
  },
  {
   "cell_type": "markdown",
   "id": "7296c9e3",
   "metadata": {},
   "source": [
    "*En este gráfico de barras podemos observar la cantidad de peliculas por año desde el 1919 al 2000. Se puede apreciar el gran aumento de peliculas en la última década analizada."
   ]
  },
  {
   "cell_type": "code",
   "execution_count": 62,
   "id": "2afc52f9",
   "metadata": {},
   "outputs": [
    {
     "data": {
      "text/plain": [
       "Genero\n",
       "Fantasy           2\n",
       "War              12\n",
       "Musical          25\n",
       "Film-Noir        25\n",
       "Western          33\n",
       "Mystery          36\n",
       "Sci-Fi           46\n",
       "Romance          50\n",
       "Children's       89\n",
       "Animation        90\n",
       "Thriller        101\n",
       "Documentary     123\n",
       "Crime           131\n",
       "Adventure       155\n",
       "Horror          262\n",
       "Action          503\n",
       "Comedy         1024\n",
       "Drama          1176\n",
       "Name: Nom_Pelicula, dtype: int64"
      ]
     },
     "execution_count": 62,
     "metadata": {},
     "output_type": "execute_result"
    }
   ],
   "source": [
    "df_movie.groupby('Genero')['Nom_Pelicula'].count().sort_values()"
   ]
  },
  {
   "cell_type": "code",
   "execution_count": 65,
   "id": "5882e10c",
   "metadata": {},
   "outputs": [
    {
     "data": {
      "image/png": "[encoded data removed]",
      "text/plain": [
       "<Figure size 2160x1080 with 1 Axes>"
      ]
     },
     "metadata": {},
     "output_type": "display_data"
    }
   ],
   "source": [
    "fig = plt.figure(figsize=(30,15))\n",
    "df_movie.groupby('Genero')['Nom_Pelicula'].count().sort_values().plot(kind='bar')\n",
    "plt.title('Peliculas por género ',fontdict = font1)\n",
    "font1 = {'family':'serif','color':'blue','size':40}\n",
    "font2 = {'family':'serif','color':'darkred','size':25}\n",
    "plt.ylabel('Cantidad de Peliculas',fontdict = font2)\n",
    "plt.xlabel('Género',fontdict = font2)\n",
    "\n",
    "plt.savefig(\"Peliculasxgenero.jpg\", bbox_inches='tight')"
   ]
  },
  {
   "cell_type": "markdown",
   "id": "fbaed4cd",
   "metadata": {},
   "source": [
    "* En este gráfico de barras se aprecian la cantidad de películas por género. Se observa que la menor cantidad de peliculas corresponden al género Fantasia y los géneros más frecuentes son Drama, Comedia y Acción. \n"
   ]
  },
  {
   "cell_type": "markdown",
   "id": "4a494168",
   "metadata": {},
   "source": [
    "Considero que a través de los gráficos de barras se puede apreciar la frecuencia en este caso de la cantidad de peliculas por año y por género. Ya que este dataset cuenta con información sobre las peliculas y tiene como variables el año y el género. \n",
    "En este tipo de gráficos se aprecia muy fácilmente la cantidad de cada variable. "
   ]
  },
  {
   "cell_type": "code",
   "execution_count": 67,
   "id": "3c48485d",
   "metadata": {},
   "outputs": [],
   "source": [
    "#Generamos el Dataframe en excel.\n",
    "df_movie.to_excel(\"df_movie.xlsx\")"
   ]
  },
  {
   "cell_type": "code",
   "execution_count": null,
   "id": "efdc1f04",
   "metadata": {},
   "outputs": [],
   "source": []
  }
 ],
 "metadata": {
  "kernelspec": {
   "display_name": "Python 3 (ipykernel)",
   "language": "python",
   "name": "python3"
  },
  "language_info": {
   "codemirror_mode": {
    "name": "ipython",
    "version": 3
   },
   "file_extension": ".py",
   "mimetype": "text/x-python",
   "name": "python",
   "nbconvert_exporter": "python",
   "pygments_lexer": "ipython3",
   "version": "3.9.12"
  }
 },
 "nbformat": 4,
 "nbformat_minor": 5
}
